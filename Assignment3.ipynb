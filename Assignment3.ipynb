{
  "nbformat": 4,
  "nbformat_minor": 0,
  "metadata": {
    "colab": {
      "provenance": []
    },
    "kernelspec": {
      "name": "python3",
      "display_name": "Python 3"
    },
    "language_info": {
      "name": "python"
    }
  },
  "cells": [
    {
      "cell_type": "markdown",
      "source": [
        "1. the `Person` class has a constructor that takes `name` and `age` as arguments and assigns them to the object's attributes. The `introduce` method is then invoked on the object to introduce the person."
      ],
      "metadata": {
        "id": "MVBeIUXoS1kH"
      }
    },
    {
      "cell_type": "code",
      "source": [
        "class Person:\n",
        "  def __init__(self,name,age):\n",
        "    self.name = name\n",
        "    self.age = age\n",
        "\n",
        "  def introduce(self):\n",
        "    print(f\"My name is {self.name} and my age is {self.age}.\")"
      ],
      "metadata": {
        "id": "WCCGFnFvS26x"
      },
      "execution_count": null,
      "outputs": []
    },
    {
      "cell_type": "code",
      "source": [
        "person1=Person(\"Tushar\",\"19\")\n",
        "person2=Person(\"Anuj\",\"18\")\n",
        "person1.introduce()"
      ],
      "metadata": {
        "colab": {
          "base_uri": "https://localhost:8080/"
        },
        "id": "jD1Hs-ENTp4K",
        "outputId": "7f6f7d2b-64ee-4da7-fd25-1e48d262ccff"
      },
      "execution_count": null,
      "outputs": [
        {
          "output_type": "stream",
          "name": "stdout",
          "text": [
            "My name is Tushar and my age is 19.\n"
          ]
        }
      ]
    },
    {
      "cell_type": "markdown",
      "source": [
        "2. the `Car` class has a constructor that takes `brand` and `model` as arguments and assigns them to the object's attributes. The `display_info` method is then invoked on the object to display the car's brand and model.\n"
      ],
      "metadata": {
        "id": "UxJFa2LoUQx5"
      }
    },
    {
      "cell_type": "code",
      "source": [
        "class Car:\n",
        "  def __init__(self,brand,model):\n",
        "    self.brand = brand\n",
        "    self.model = model\n",
        "\n",
        "  def displa_info(self):\n",
        "    print(f\"The car's brand is {self.brand} \\nit's model is {self.model}.\")"
      ],
      "metadata": {
        "id": "c6frljkZUVM9"
      },
      "execution_count": null,
      "outputs": []
    },
    {
      "cell_type": "code",
      "source": [
        "car1=Car(\"Audi\",\"Audi R8\")\n",
        "car2=Car(\"Lamborghini\",\"Lamborghini Aventador\")\n",
        "car2.displa_info()"
      ],
      "metadata": {
        "colab": {
          "base_uri": "https://localhost:8080/"
        },
        "id": "P5wNEonPWvXL",
        "outputId": "88b18abf-2f0c-4ec2-ae48-43a7ea550641"
      },
      "execution_count": null,
      "outputs": [
        {
          "output_type": "stream",
          "name": "stdout",
          "text": [
            "The car's brand is Lamborghini \n",
            "it's model is Lamborghini Aventador.\n"
          ]
        }
      ]
    },
    {
      "cell_type": "markdown",
      "source": [
        "3. the `BankAccount` class has a constructor that takes `account_number` and `balance` as arguments and assigns them to the object's attributes. The `display_balance` method is then invoked on the object to display the account number and balance."
      ],
      "metadata": {
        "id": "zjO5Uo4SX95p"
      }
    },
    {
      "cell_type": "code",
      "source": [
        "class BankAccount:\n",
        "  def __init__(self,account_number,balance):\n",
        "    self.account_number = account_number\n",
        "    self.balance = balance\n",
        "\n",
        "  def display_balance(self):\n",
        "    print(f\"You current balance in {self.account_number} account is {self.balance}.\")"
      ],
      "metadata": {
        "id": "-GnSndVoYCiK"
      },
      "execution_count": null,
      "outputs": []
    },
    {
      "cell_type": "code",
      "source": [
        "account1=BankAccount(\"122344884773763\",\"300000\")\n",
        "account2=BankAccount(\"879787627623774\",\"599999\")\n",
        "account1.display_balance()"
      ],
      "metadata": {
        "colab": {
          "base_uri": "https://localhost:8080/"
        },
        "id": "_bTTInnVaqSE",
        "outputId": "195be193-16a8-4dc7-8523-c62a5561fdc0"
      },
      "execution_count": null,
      "outputs": [
        {
          "output_type": "stream",
          "name": "stdout",
          "text": [
            "You current balance in 122344884773763 account is 300000.\n"
          ]
        }
      ]
    },
    {
      "cell_type": "markdown",
      "source": [
        "4.  the `MobilePhone` class has a constructor that takes `brand` and `model` as arguments and assigns them to the object's attributes. The `make_call` method is then invoked on the object to make a call with the phone."
      ],
      "metadata": {
        "id": "q7094IUbbamm"
      }
    },
    {
      "cell_type": "code",
      "source": [
        "class MobilePhone:\n",
        "  def __init__(self,brand,model):\n",
        "    self.brand = brand\n",
        "    self.model = model\n",
        "\n",
        "  def make_call(self):\n",
        "    print(f\"You are calling from {self.brand} {self.model} mobile.\")"
      ],
      "metadata": {
        "id": "vdsXzStSbeL7"
      },
      "execution_count": null,
      "outputs": []
    },
    {
      "cell_type": "code",
      "source": [
        "mobile1=MobilePhone(\"Realme\",\"narzo 7\")\n",
        "mobile1.make_call()"
      ],
      "metadata": {
        "colab": {
          "base_uri": "https://localhost:8080/"
        },
        "id": "Xa5NadPpcoYo",
        "outputId": "bf143c9c-58f1-44ed-c014-101ce4bde9fd"
      },
      "execution_count": null,
      "outputs": [
        {
          "output_type": "stream",
          "name": "stdout",
          "text": [
            "You are calling from Realme narzo 7 mobile.\n"
          ]
        }
      ]
    },
    {
      "cell_type": "markdown",
      "source": [
        "5. the `Book` class has a constructor that takes `title` and `author` as arguments and assigns them to the object's attributes. The `display_info` method is then invoked on the object to display the book's title and author."
      ],
      "metadata": {
        "id": "EtaNhLCNmgna"
      }
    },
    {
      "cell_type": "code",
      "source": [
        "class Book:\n",
        "  def __init__(self,title,author):\n",
        "    self.title = title\n",
        "    self.author = author\n",
        "\n",
        "  def display_info(self):\n",
        "    print(f\"{self.author} is the author of book titled {self.title}.\")"
      ],
      "metadata": {
        "id": "IZctiiwAmj38"
      },
      "execution_count": null,
      "outputs": []
    },
    {
      "cell_type": "code",
      "source": [
        "\n",
        "book1=Book(\"World Famous Lover\",\"Kranthi Madhav\")\n",
        "book1.display_info()"
      ],
      "metadata": {
        "colab": {
          "base_uri": "https://localhost:8080/"
        },
        "id": "kY6GGqFUnvGS",
        "outputId": "b2f8069f-27ab-4f0e-867f-40f122eb4a22"
      },
      "execution_count": null,
      "outputs": [
        {
          "output_type": "stream",
          "name": "stdout",
          "text": [
            "Kranthi Madhav is the author of book titled World Famous Lover.\n"
          ]
        }
      ]
    },
    {
      "cell_type": "markdown",
      "source": [
        "6. Vehicles: Create a base class called Vehicle with attributes such as make, model, and year. Implement two subclasses Car and Motorcycle that inherit from Vehicle. Add additional methods to the subclasses, such as start_engine() and stop_engine(), and handle any specific behavior or rules for each vehicle type.\n"
      ],
      "metadata": {
        "id": "HAWRchb4re7C"
      }
    },
    {
      "cell_type": "code",
      "source": [
        "class Vehicles:\n",
        "  def __init__(self,make,model,year):\n",
        "    self.make = make\n",
        "    self.model = model\n",
        "    self.year = year\n",
        "\n",
        "  def detail(self):\n",
        "    print(f\"The Manufacturing Company is {self.make} \\nThe model is {self.model} \\nand the Year of Manufacturing is {self.year}.\")\n",
        "\n",
        "class Car(Vehicles):\n",
        "  def __init__(self,make,model,year,Top_speed):\n",
        "    super().__init__(make,model,year)\n",
        "    self.Top_speed = Top_speed\n",
        "\n",
        "  def start_engine(self):\n",
        "    print(f\"The {self.make} {self.model} engine is started.\")\n",
        "\n",
        "  def stop_engine(self):\n",
        "    print(f\"The engine of {self.make} {self.model} is stopped.\")\n",
        "\n",
        "  def sunroof(self):\n",
        "    print(f\"The {self.make} {self.model} SunRoof is opening.\")\n",
        "\n",
        "class Motorcycle(Vehicles):\n",
        "  def __init__(self,make,model,year,power):\n",
        "    super().__init__(make,model,year)\n",
        "    self.power = power\n",
        "\n",
        "  def start(self):\n",
        "    print(f\"The {self.make} {self.model} engine is started.\")\n",
        "\n",
        "  def stop(self):\n",
        "    print(f\"The engine of {self.make} {self.model} is stopped.\")"
      ],
      "metadata": {
        "id": "DnEz2sksrjB4"
      },
      "execution_count": null,
      "outputs": []
    },
    {
      "cell_type": "code",
      "source": [
        "vechile1=Car(\"Lamboghini\",\"Lamborghini Aventador\",\"2011\",\"350 km/h (217 mph)\")\n",
        "vechile2=Motorcycle(\"Royal Enfield\",\"Classic 350\",\"2022\",\"499 cc\")\n",
        "vechile3=Car(\"BMW\",\"i8\",\"2014\",\"155 mph (250 km/h)\")\n",
        "vechile4=Motorcycle(\"Kawasaki\",\"Ninja H2R\",\"2019\",\"998 cc\")\n",
        "vechile2.stop()"
      ],
      "metadata": {
        "colab": {
          "base_uri": "https://localhost:8080/"
        },
        "id": "RsE95om3wp44",
        "outputId": "d1fb263c-6fe6-4fe1-94db-de1ffe558840"
      },
      "execution_count": null,
      "outputs": [
        {
          "output_type": "stream",
          "name": "stdout",
          "text": [
            "The engine of Royal Enfield Classic 350 is stopped.\n"
          ]
        }
      ]
    },
    {
      "cell_type": "code",
      "source": [
        "\n",
        "vechile1.Top_speed"
      ],
      "metadata": {
        "colab": {
          "base_uri": "https://localhost:8080/",
          "height": 36
        },
        "id": "SBt6u6-z6ZbI",
        "outputId": "b330ae20-1b23-46eb-ea42-d15361bf388d"
      },
      "execution_count": null,
      "outputs": [
        {
          "output_type": "execute_result",
          "data": {
            "text/plain": [
              "'350 km/h (217 mph)'"
            ],
            "application/vnd.google.colaboratory.intrinsic+json": {
              "type": "string"
            }
          },
          "metadata": {},
          "execution_count": 57
        }
      ]
    },
    {
      "cell_type": "markdown",
      "source": [
        "7. Animals: Create a base class called Animal with methods such as eat() and sleep(). Implement two subclasses Dog and Cat that inherit from Animal. Add additional methods to the subclasses, such as bark() for dogs and meow() for cats, and handle any specific behavior or rules for each animal type."
      ],
      "metadata": {
        "id": "WXwmHar48ZNd"
      }
    },
    {
      "cell_type": "code",
      "source": [
        "class Animal:\n",
        "  def __init__(self,name):\n",
        "    self.name = name\n",
        "\n",
        "  def eat(self):\n",
        "    print(f\"The {self.name} is Eating food.\")\n",
        "\n",
        "  def sleep(self):\n",
        "    print(f\"{self.name} is sleeping.\")\n",
        "\n",
        "\n",
        "\n",
        "class Dog(Animal):\n",
        "  def __init__(self,name):\n",
        "    super().__init__(name)\n",
        "\n",
        "  def bark(self):\n",
        "    print(f\"{self.name} is barking.\")\n",
        "\n",
        "  def walk(self):\n",
        "    print(f\"{self.name} is go for a walk in garden.\")\n",
        "\n",
        "\n",
        "\n",
        "class Cat(Animal):\n",
        "  def __init__(self,name):\n",
        "    super().__init__(name)\n",
        "\n",
        "  def meow(self):\n",
        "    print(f\"{self.name} sound is meow.\")"
      ],
      "metadata": {
        "id": "q5CRbHDG8aGO"
      },
      "execution_count": null,
      "outputs": []
    },
    {
      "cell_type": "code",
      "source": [
        "animal1=Dog(\"Tommy\")\n",
        "animal2=Cat(\"june\")\n",
        "animal1.sleep()"
      ],
      "metadata": {
        "colab": {
          "base_uri": "https://localhost:8080/"
        },
        "id": "SK-To8cBWo7d",
        "outputId": "bbb64bbe-69ec-4b63-fea1-aa37a177a915"
      },
      "execution_count": null,
      "outputs": [
        {
          "output_type": "stream",
          "name": "stdout",
          "text": [
            "Tommy is sleeping.\n"
          ]
        }
      ]
    },
    {
      "cell_type": "code",
      "source": [
        "animal2.meow()"
      ],
      "metadata": {
        "colab": {
          "base_uri": "https://localhost:8080/"
        },
        "id": "PtCo9wIDgIQx",
        "outputId": "a0b720fb-da3a-4c79-b98a-3a1900ccb38a"
      },
      "execution_count": null,
      "outputs": [
        {
          "output_type": "stream",
          "name": "stdout",
          "text": [
            "june sound is meow.\n"
          ]
        }
      ]
    },
    {
      "cell_type": "markdown",
      "source": [
        "8. Library Catalog: Create a base class called LibraryItem with attributes such as title, author, and publication_year. Implement two subclasses Book and Magazine that inherit from LibraryItem. Add additional methods to the subclasses, such as checkout() and return_item(), and handle any specific behavior or rules for each item type."
      ],
      "metadata": {
        "id": "Cgr6oAXEk6ml"
      }
    },
    {
      "cell_type": "code",
      "source": [
        "class Libraryitem:\n",
        "  def __init__(self,title,author,publication_year):\n",
        "    self.title = title\n",
        "    self.author = author\n",
        "    self.publication_year = publication_year\n",
        "\n",
        "  def info(self):\n",
        "    print(f\"The title is {self.title} published by {self.author} published in {self.publication_year} and it's price is {self.price}.\")\n",
        "\n",
        "class Book(Libraryitem):\n",
        "  def __init__(self,title,author,publication_year,price):\n",
        "    super().__init__(title,author,publication_year)\n",
        "    self.price = price\n",
        "\n",
        "  def checkout(self):\n",
        "    print(f\"The book {self.title} postulated by {self.author} and it is published in {self.publication_year}.\")\n",
        "\n",
        "  def return_item(self):\n",
        "    print(f\"The book {self.title} written by {self.author} is return to the incharge librarian.\")\n",
        "\n",
        "  def purchase(self):\n",
        "    print(f\"The price of book {self.title} published by {self.author} is {self.price}.\")\n",
        "\n",
        "class Magazine(Libraryitem):\n",
        "  def __init__(self,title,author,publication_year):\n",
        "    super().__init__(title,author,publication_year)\n",
        "\n",
        "  def checkout(self):\n",
        "    print(f\"The magazine {self.title} whose author is {self.author} and it is published in {self.publication_yearyear}.\")\n",
        "\n",
        "  def return_item(self):\n",
        "    print(f\"The {self.title} Magazine is return to library.\")"
      ],
      "metadata": {
        "id": "JdLaddkvk-Yu"
      },
      "execution_count": null,
      "outputs": []
    },
    {
      "cell_type": "code",
      "source": [
        "item1=Book(\"General Knowledge Encyclopaedia\",\"Disha Experts \",\"June 2023\",\"₹ 579\")\n",
        "item2=Book(\"NCERT Physics FINGERTIPS\",\"MTG Editorial Board\",\"June 2024\",\"₹ 700\")\n",
        "item3=Magazine(\"Family Tree\",\"Yankee Publishing, Inc.\",\"2000\")\n",
        "item2.info()"
      ],
      "metadata": {
        "colab": {
          "base_uri": "https://localhost:8080/"
        },
        "id": "HJUkbIgntQQf",
        "outputId": "e60252c0-2a66-4a8d-80c5-641aa7527dc7"
      },
      "execution_count": null,
      "outputs": [
        {
          "output_type": "stream",
          "name": "stdout",
          "text": [
            "The title is NCERT Physics FINGERTIPS published by MTG Editorial Board published in June 2024 and it's price is ₹ 700.\n"
          ]
        }
      ]
    },
    {
      "cell_type": "code",
      "source": [
        "item3.return_item()"
      ],
      "metadata": {
        "colab": {
          "base_uri": "https://localhost:8080/"
        },
        "id": "Ti8akQkQvY6H",
        "outputId": "ff27f214-31c6-47c3-9468-41cb6f75ad61"
      },
      "execution_count": null,
      "outputs": [
        {
          "output_type": "stream",
          "name": "stdout",
          "text": [
            "The Family Tree Magazine is return to library.\n"
          ]
        }
      ]
    },
    {
      "cell_type": "markdown",
      "source": [
        "9. Employees and Departments: Create a base class called Employee with attributes such as name, salary, and department. Implement two subclasses Manager and Staff that inherit from Employee. Add additional methods to the subclasses, such as assign_task() for managers and attend_meeting() for staff members. Create a separate class called Department that contains a list of employees and methods to add or remove employees from the department."
      ],
      "metadata": {
        "id": "-juk_7m-wqp7"
      }
    },
    {
      "cell_type": "code",
      "source": [
        "class Employee:\n",
        "  def __init__(self,name,salary,department):\n",
        "    self.name = name\n",
        "    self.salary = salary\n",
        "    self.department = department\n",
        "\n",
        "  def detail(self):\n",
        "    print(f\"The Employee name is {self.name}.\\nIt's salary is {self.salary}.\\nand the depatment is {self.department}.\")\n",
        "\n",
        "class Manager(Employee):\n",
        "  def __init__(self,name,salary,department,task):\n",
        "    super().__init__(name,salary,department)\n",
        "    self.task = task\n",
        "\n",
        "  def task_assign(self):\n",
        "    print(f\"The employee name {self.name} of {self.department} department has assigned for {self.task} task.\")\n",
        "\n",
        "class Staff(Employee):\n",
        "  def __init__(self,name,salary,department,meetings):\n",
        "    super().__init__(name,salary,department)\n",
        "    self.meetings = meetings\n",
        "\n",
        "  def attend_meeting(self):\n",
        "    print(f\"{self.name} employee of {self.department} department attend {self.meetings} meetings.\")"
      ],
      "metadata": {
        "id": "q-Uyf7DgwtYt"
      },
      "execution_count": null,
      "outputs": []
    },
    {
      "cell_type": "code",
      "source": [
        "person1=Manager(\"Devesh\",\"22000\",\"digital marketing\",\"reels and advertisement\")\n",
        "person2=Staff(\"Malkit Choudhary\",\"30000\",\"data scince\",\"12\")\n",
        "person1.task_assign()"
      ],
      "metadata": {
        "colab": {
          "base_uri": "https://localhost:8080/"
        },
        "id": "2AIGJJlMzJYC",
        "outputId": "2f87d9ee-f068-4ae8-a32f-6c1733a9dfc3"
      },
      "execution_count": null,
      "outputs": [
        {
          "output_type": "stream",
          "name": "stdout",
          "text": [
            "The employee name Devesh of digital marketing department has assigned for reels and advertisement task.\n"
          ]
        }
      ]
    },
    {
      "cell_type": "code",
      "source": [
        "person2.detail()"
      ],
      "metadata": {
        "colab": {
          "base_uri": "https://localhost:8080/"
        },
        "id": "nRLu8RWy48tA",
        "outputId": "95d71728-fa94-4810-9871-7999797d91b2"
      },
      "execution_count": null,
      "outputs": [
        {
          "output_type": "stream",
          "name": "stdout",
          "text": [
            "The Employee name is Malkit Choudhary.\n",
            "It's salary is 30000.\n",
            "and the depatment is data scince.\n"
          ]
        }
      ]
    },
    {
      "cell_type": "code",
      "source": [
        "class Department:\n",
        "  def __init__(self,name):\n",
        "    self.name = name\n",
        "\n",
        "  def details(*args):\n",
        "    List=list(*args)"
      ],
      "metadata": {
        "id": "_LVx5BSV5Rbr"
      },
      "execution_count": null,
      "outputs": []
    },
    {
      "cell_type": "code",
      "source": [
        "person1=Department(\"anuj\")\n",
        "person2=Department(\"dipanshu\")\n",
        "person3=Department(\"malkit\")\n",
        "person4=Department(\"naman\")\n",
        "person5=Department(\"aaryan\")\n",
        "Department.details()"
      ],
      "metadata": {
        "id": "sCEbpNJ-_wb3"
      },
      "execution_count": null,
      "outputs": []
    },
    {
      "cell_type": "markdown",
      "source": [
        "10. Bank Transactions: Create a base class called BankAccount with attributes such as account_number and balance. Implement subclasses for different types of accounts such as CheckingAccount and SavingsAccount that inherit from BankAccount. Add additional methods to the subclasses, such as withdraw() and deposit(), and handle any specific behavior or rules for each account type."
      ],
      "metadata": {
        "id": "qPH6nfrQCPE_"
      }
    },
    {
      "cell_type": "code",
      "source": [
        "class BankAccount:\n",
        "  def __init__(self,account_number,balance_amount):\n",
        "    self.account_number = account_number\n",
        "    self.balance_amount = balance_amount\n",
        "\n",
        "  def info(self):\n",
        "    print(f\"The account number is {self.account_number}.\")\n",
        "\n",
        "  def balance(self):\n",
        "    print(f\"The balance is {self.balance_amount}.\")\n",
        "\n",
        "class CheckingAccount(BankAccount):\n",
        "  def __init__(self,account_number,balance_amount,deposit_amount,withdraw_amount):\n",
        "    super().__init__(account_number,balance_amount)\n",
        "    self.deposit_amount = deposit_amount\n",
        "    self.withdraw_amount = withdraw_amount\n",
        "\n",
        "  def deposit(self):\n",
        "    self.balance_amount += self.deposit_amount\n",
        "    print(f\"The amount {self.deposit_amount} is added to your account {self.account_number}.\")\n",
        "\n",
        "  def withdraw(self):\n",
        "    self.balance_amount -= self.withdraw_amount\n",
        "    print(f\"The amount {self.withdraw_amount} is successfully withdraw from your account {self.account_number}.\")\n",
        "\n",
        "class SavingAccount(BankAccount):\n",
        "  def __init__(self,account_number,balance_amount,deposit_amount,withdraw_amount):\n",
        "    super().__init__(account_number,balance_amount)\n",
        "    self.deposit_amount = deposit_amount\n",
        "    self.withdraw_amount = withdraw_amount\n",
        "\n",
        "  def deposit(self):\n",
        "    self.balance_amount += self.deposit_amount\n",
        "    print(f\"The amount {self.deposit_amount} is added to your account.\\nYour total balance is {self.balance_amount}.\")\n",
        "\n",
        "  def withdraw(self):\n",
        "    self.balance_amount -= self.withdraw_amount\n",
        "    print(f\"The amount {self.withdraw_amount} is withdraw from your account. {self.account_number} \\nThe total balance in your account is {self.balance_amount}.\")"
      ],
      "metadata": {
        "id": "gXVSrgWTCQVt"
      },
      "execution_count": null,
      "outputs": []
    },
    {
      "cell_type": "code",
      "source": [
        "person1=CheckingAccount(3837878233,2000,3000,200)\n",
        "person1.deposit()"
      ],
      "metadata": {
        "colab": {
          "base_uri": "https://localhost:8080/"
        },
        "id": "cOSgE_oKQIbi",
        "outputId": "a09d88ce-df61-474e-aac0-53241c62aeb6"
      },
      "execution_count": null,
      "outputs": [
        {
          "output_type": "stream",
          "name": "stdout",
          "text": [
            "The amount 3000 is added to your account 3837878233.\n"
          ]
        }
      ]
    },
    {
      "cell_type": "markdown",
      "source": [
        "11. School Management System: Create a base class called Person with attributes such as name, age, and address. Implement subclasses for different roles such as Student, Teacher, and Staff that inherit from Person. Add additional methods to the subclasses, such as take_exam() for students and teach_subject() for teachers."
      ],
      "metadata": {
        "id": "PalbM4akbvvc"
      }
    },
    {
      "cell_type": "code",
      "source": [
        "class Person:\n",
        "  def __init__(self,name,age,address):\n",
        "    self.name = name\n",
        "    self.age = age\n",
        "    self.address = address\n",
        "\n",
        "  def detail(self):\n",
        "    print(f\"The name is {self.name} his/her age is {self.age} and his/her adddress is {self.address}.\")\n",
        "\n",
        "class Student(Person):\n",
        "  def __init__(self,name,age,address,subject,marks):\n",
        "    super().__init__(name,age,address)\n",
        "    self.subject = subject\n",
        "    self.marks = marks\n",
        "\n",
        "  def take_exam(self):\n",
        "    print(f\"{self.name} gives {self.subject} exam.\")\n",
        "\n",
        "  def result(self):\n",
        "    print(f\"{self.name} has {self.marks} marks in {self.subject}.\")\n",
        "\n",
        "class Teacher(Person):\n",
        "  def __init__(self,name,age,address,classes,subject):\n",
        "    super().__init__(name,age,address)\n",
        "    self.classes = classes\n",
        "    self.subject = subject\n",
        "\n",
        "  def class_teacher(self):\n",
        "    print(f\"Mr./Mrs. {self.name} is the class teacher of {self.classes}.\")\n",
        "\n",
        "  def teach_subject(self):\n",
        "    print(f\"Mr./Mrs. {self.name} teaches {self.subject} subject.\")\n",
        "\n",
        "class Staff(Person):\n",
        "  def __init__(self,name,age,address,subject,classes):\n",
        "    super().__init__(name,age,address)\n",
        "    self.subject = subject\n",
        "    self.classes = classes\n",
        "\n",
        "  def detail(self):\n",
        "    print(f\"{self.name} teaches {self.subject} subject and he/she is the class teacher of {self.classes}.\")"
      ],
      "metadata": {
        "id": "Cbx1tqPQc8u2"
      },
      "execution_count": null,
      "outputs": []
    },
    {
      "cell_type": "code",
      "source": [
        "a=Person(\"devesh\",\"18\",\"alwar\")\n",
        "b=Student(\"anuj\",\"18\",\"alwar\",\"AI/ML\",\"30\")\n",
        "c=Teacher(\"dipanshu\",\"18\",\"alwar\",\"12\",\"history\")\n",
        "d=Staff(\"tushar\",\"18\",\"nayabass\",\"english\",\"11\")\n",
        "a.name"
      ],
      "metadata": {
        "colab": {
          "base_uri": "https://localhost:8080/",
          "height": 36
        },
        "id": "xy04DmyqtDhk",
        "outputId": "500840cb-c602-4051-8372-70b13369bd78"
      },
      "execution_count": null,
      "outputs": [
        {
          "output_type": "execute_result",
          "data": {
            "text/plain": [
              "'devesh'"
            ],
            "application/vnd.google.colaboratory.intrinsic+json": {
              "type": "string"
            }
          },
          "metadata": {},
          "execution_count": 25
        }
      ]
    },
    {
      "cell_type": "code",
      "source": [
        "b.result()"
      ],
      "metadata": {
        "colab": {
          "base_uri": "https://localhost:8080/"
        },
        "id": "ftBwwsD96pbZ",
        "outputId": "67b1c060-4b11-4cb2-82c3-24904ae3bcf4"
      },
      "execution_count": null,
      "outputs": [
        {
          "output_type": "stream",
          "name": "stdout",
          "text": [
            "anuj has 30 marks in AI/ML.\n"
          ]
        }
      ]
    },
    {
      "cell_type": "code",
      "source": [
        "c.teach_subject()"
      ],
      "metadata": {
        "colab": {
          "base_uri": "https://localhost:8080/"
        },
        "id": "JiorQcNv7WrI",
        "outputId": "45326a5f-1d4f-4f85-e482-e3def78c7d95"
      },
      "execution_count": null,
      "outputs": [
        {
          "output_type": "stream",
          "name": "stdout",
          "text": [
            "Mr./Mrs. dipanshu teaches history subject.\n"
          ]
        }
      ]
    },
    {
      "cell_type": "code",
      "source": [
        "d.detail()"
      ],
      "metadata": {
        "colab": {
          "base_uri": "https://localhost:8080/"
        },
        "id": "P7uyJOlo7fEg",
        "outputId": "1f4f8f99-c389-46ab-8623-f355ad27f19b"
      },
      "execution_count": null,
      "outputs": [
        {
          "output_type": "stream",
          "name": "stdout",
          "text": [
            "tushar teaches english subject and he/she is the class teacher of 11.\n"
          ]
        }
      ]
    }
  ]
}